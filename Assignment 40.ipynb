{
 "cells": [
  {
   "cell_type": "markdown",
   "id": "6d8f5bdd",
   "metadata": {},
   "source": [
    "# Q1. What is Ridge Regression, and how does it differ from ordinary least squares regression?"
   ]
  },
  {
   "cell_type": "markdown",
   "id": "b7b8e128",
   "metadata": {},
   "source": [
    "# ans.. ridge regression is the model of regression  redge regression  the cost function is not zero  the redge regression is alwase the any value \n",
    "# 1/n (sum of (yi-y^i)^2+lambda*sum(slop)^2"
   ]
  },
  {
   "cell_type": "markdown",
   "id": "fc9d2b8e",
   "metadata": {},
   "source": [
    "# Q2. What are the assumptions of Ridge Regression?"
   ]
  },
  {
   "cell_type": "markdown",
   "id": "d33f5acb",
   "metadata": {},
   "source": [
    "# ridge regression alwse the best of the any simple linear regression the ridge regression is handal the outlier data point "
   ]
  },
  {
   "cell_type": "markdown",
   "id": "c9930d8b",
   "metadata": {},
   "source": [
    "# Q3. How do you select the value of the tuning parameter (lambda) in Ridge Regression?"
   ]
  },
  {
   "cell_type": "markdown",
   "id": "751d6948",
   "metadata": {},
   "source": [
    "# the incresse the lambda value the cost function is sift the (-)side "
   ]
  },
  {
   "cell_type": "markdown",
   "id": "e512c429",
   "metadata": {},
   "source": [
    "# Q4. Can Ridge Regression be used for feature selection? If yes, how?"
   ]
  },
  {
   "cell_type": "markdown",
   "id": "72d25390",
   "metadata": {},
   "source": [
    "  #  Yes, ridge regression can be used for feature selection. Ridge regression is a method of estimating the coefficients of multiple regression models when the variables in the data are highly correlated. Ridge regression uses a penalty term to shrink the coefficients of less important features towards zero, effectively reducing their influence on the prediction. This way, ridge regression can help us identify the most relevant features for the model"
   ]
  },
  {
   "cell_type": "markdown",
   "id": "7e8896bc",
   "metadata": {},
   "source": [
    "# Q5. How does the Ridge Regression model perform in the presence of multicollinearity?"
   ]
  },
  {
   "cell_type": "markdown",
   "id": "a34cf41f",
   "metadata": {},
   "source": [
    "# the ridge regression model is better worke of the outlier and the ridge regression  is not equal to zero "
   ]
  },
  {
   "cell_type": "markdown",
   "id": "347a13e2",
   "metadata": {},
   "source": [
    "# Q6. Can Ridge Regression handle both categorical and continuous independent variables?"
   ]
  },
  {
   "cell_type": "markdown",
   "id": "d77d8530",
   "metadata": {},
   "source": [
    "# yes the ridge regression is handal both categorical"
   ]
  },
  {
   "cell_type": "markdown",
   "id": "b51cadc4",
   "metadata": {},
   "source": [
    "# Q7. How do you interpret the coefficients of Ridge Regression?"
   ]
  },
  {
   "cell_type": "markdown",
   "id": "c4dd0bc8",
   "metadata": {},
   "source": [
    "#  The coefficients of ridge regression are the estimated values of the parameters that minimize the penalized residual sum of squares (RSS):\n",
    "# RSS+λj=1 to p∑βj^2\n",
    "# where λ is a tuning parameter that controls the amount of shrinkage applied to the coefficients, and p is the number of predictors."
   ]
  },
  {
   "cell_type": "markdown",
   "id": "b5313bd9",
   "metadata": {},
   "source": [
    "# Q8. Can Ridge Regression be used for time-series data analysis? If yes, how?"
   ]
  },
  {
   "cell_type": "markdown",
   "id": "1f9f936f",
   "metadata": {},
   "source": [
    "# First, we need to check the stationarity of the time-series data, which means that the mean, variance, and autocorrelation of the data do not change over time. If the data are not stationary, we need to apply some transformations, such as differencing, logarithm, or detrending, to make them stationary.\n",
    "# Second, we need to choose the appropriate lagged variables as the independent variables for the regression model. Lagged variables are past values of the dependent variable or other related variables that can help explain the current value of the dependent variable. We can use methods such as autocorrelation function (ACF), partial autocorrelation function (PACF), or information criteria (such as AIC or BIC) to select the optimal number of lag"
   ]
  },
  {
   "cell_type": "code",
   "execution_count": null,
   "id": "0414b80d",
   "metadata": {},
   "outputs": [],
   "source": []
  }
 ],
 "metadata": {
  "kernelspec": {
   "display_name": "Python 3 (ipykernel)",
   "language": "python",
   "name": "python3"
  },
  "language_info": {
   "codemirror_mode": {
    "name": "ipython",
    "version": 3
   },
   "file_extension": ".py",
   "mimetype": "text/x-python",
   "name": "python",
   "nbconvert_exporter": "python",
   "pygments_lexer": "ipython3",
   "version": "3.10.9"
  }
 },
 "nbformat": 4,
 "nbformat_minor": 5
}
